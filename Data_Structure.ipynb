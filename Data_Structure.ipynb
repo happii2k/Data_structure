{
  "nbformat": 4,
  "nbformat_minor": 0,
  "metadata": {
    "colab": {
      "provenance": []
    },
    "kernelspec": {
      "name": "python3",
      "display_name": "Python 3"
    },
    "language_info": {
      "name": "python"
    }
  },
  "cells": [
    {
      "cell_type": "markdown",
      "source": [],
      "metadata": {
        "id": "o7B8W5aePt7e"
      }
    },
    {
      "cell_type": "markdown",
      "source": [
        "  # Data type and Structure\n",
        "1. What are data structures, and why are they important?\n",
        " * Data structures are used to organize and stored data efficently .They are important because using data structure we can modify,access and manipulate the data. Few examples are lists,tuple,sets .\n",
        "2. Explain the difference between mutable and immutable data types with examples?\n",
        " * Mutable data are able to modify and update after it creation . i.e  Lists\n",
        "\n",
        "   *   Immutable data cannot be modified or update after its creation. i.e  Tuple\n",
        "\n",
        "3. What are the main differences between lists and tuples in Python?\n",
        " * Lists are mutable, while tuples are immutable.Lists are slower compared to tuples due to additional memory overhead.\n",
        "\n",
        " *  Tuples are more memory-efficient and can be used as dictionary keys.\n",
        "4. Describe how dictionaries store data.\n",
        " * Dictionaries store data as key-value pairs.Internally, they use a hash table, mapping each key to a specific memory location for fast lookups.\n",
        "5. Why might you use a set instead of a list in Python?\n",
        " * Sets automatically remove duplicate values.\n",
        "They offer faster lookups (O(1) average time complexity vs. O(n) for lists).\n",
        "They are useful for operations like unions, intersections, and differences.\n",
        "6. What is a string in Python, and how is it different from a list?\n",
        " * A string is an immutable sequence of characters.\n",
        "A list is mutable and can hold elements of different data types.\n",
        "Example: s = \"hello\"; s[0] = \"H\"  (will show error, because strings are immutable).\n",
        "7. How do tuples ensure data integrity in Python?\n",
        " * Because tuples are immutable, their values cannot be changed after creation, ensuring that data remains constant and preventing accidental modification.\n",
        "8. What is a hash table, and how does it relate to dictionaries in Python?\n",
        " * A hash table is a data structure that maps keys to values using a hash function.\n",
        "Python’s dict uses a hash table internally for fast lookups.\n",
        "9. Can lists contain different data types in Python?\n",
        " * Yes, lists can  contain different data types.\n",
        "10. Explain why strings are immutable in Python.\n",
        " * Strings are immutable for security, memory efficiency, and hashability (they can be used as dictionary keys).\n",
        "Modifying a string creates a new one instead of altering the original.\n",
        "11. What advantages do dictionaries offer over lists for certain tasks?\n",
        " * Faster lookups (O(1) for dictionaries vs. O(n) for lists).\n",
        "Key-value mapping makes data retrieval more meaningful.\n",
        "No need to search through indices like in a list.\n",
        "12. Describe a scenario where using a tuple would be preferable over a list.\n",
        " * Storing coordinates (latitude, longitude) to ensure they remain unchanged.\n",
        "Using a tuple as a dictionary key.\n",
        "13. How do sets handle duplicate values in Python?\n",
        " * Sets automatically remove duplicates when elements are added.\n",
        "14. How does the “in” keyword work differently for lists and dictionaries?\n",
        " * For lists, in checks if an element exists (O(n)).\n",
        "For dictionaries, in checks keys only (O(1)).\n",
        "\n",
        "          my_dict = {\"name\": \"Alice\"}\n",
        "          \"name\" in my_dict  # True\n",
        "          \"Alice\" in my_dict  # False\n",
        "15. Can you modify the elements of a tuple? Explain why or why not.\n",
        " * No, because tuples are immutable.\n",
        "However, if a tuple contains a mutable object (e.g., a list), that object can be modified.\n",
        "16. What is a nested dictionary, and give an example of its use case?\n",
        " * A nested dictionary is a dictionary inside another dictionary.\n",
        "Example:\n",
        "          students = {\n",
        "              \"Alice\": {\"age\": 20, \"grade\": \"A\"},\n",
        "              \"Bob\": {\"age\": 22, \"grade\": \"B\"}\n",
        "          }\n",
        "          print(students[\"Alice\"][\"grade\"])  # Output: A\n",
        "17. Describe the time complexity of accessing elements in a dictionary.\n",
        " * Dictionary lookups are O(1) on average due to hash table usage.\n",
        "18. In what situations are lists preferred over dictionaries?\n",
        " * When order matters (lists maintain insertion order).\n",
        "When storing simple sequences without needing key-value pairs.\n",
        "When elements need to be accessed by index rather than key.\n",
        "19. Why are dictionaries considered unordered, and how does that affect data retrieval?\n",
        " * Before Python 3.7, dictionaries were unordered, meaning insertion order was not preserved.\n",
        "Now, they maintain order, but the keys are still hashed, so lookups are based on keys, not positions.\n",
        "20. Explain the difference between a list and a dictionary in terms of data retrieval.\n",
        " * Lists: Retrieve data by index (O(1)).\n",
        "Dictionaries: Retrieve data by key (O(1)).\n",
        "Lists are better for ordered sequences, while dictionaries are better for fast lookups.\n",
        "\n",
        "\n",
        "\n",
        "\n",
        "\n"
      ],
      "metadata": {
        "id": "vzjt9X9pPvaJ"
      }
    },
    {
      "cell_type": "code",
      "source": [
        "# Q1. Write a code to create a string with your name and print it.\n",
        "name=\"Harsh Parihar\"\n",
        "print(name)"
      ],
      "metadata": {
        "colab": {
          "base_uri": "https://localhost:8080/"
        },
        "id": "86POBURmV586",
        "outputId": "751bddba-2045-4c1a-9e39-285e8f56d1da"
      },
      "execution_count": 23,
      "outputs": [
        {
          "output_type": "stream",
          "name": "stdout",
          "text": [
            "Harsh Parihar\n"
          ]
        }
      ]
    },
    {
      "cell_type": "code",
      "source": [
        "#Q2. Write a code to find the length of the string \"Hello World\"\n",
        "A=\"Hello World\"\n",
        "print(len(A))"
      ],
      "metadata": {
        "colab": {
          "base_uri": "https://localhost:8080/"
        },
        "id": "jUGYnI0OU0KR",
        "outputId": "10485336-5670-4196-9d07-ede673b8bd74"
      },
      "execution_count": 22,
      "outputs": [
        {
          "output_type": "stream",
          "name": "stdout",
          "text": [
            "11\n"
          ]
        }
      ]
    },
    {
      "cell_type": "code",
      "source": [
        "#Q3. Write a code to slice the first 3 characters from the string \"Python Programming\"\n",
        "A=\"Python Programming\"\n",
        "print(A[0:3])"
      ],
      "metadata": {
        "colab": {
          "base_uri": "https://localhost:8080/"
        },
        "id": "up3nMTBkBOUe",
        "outputId": "579b83c9-d0a2-437f-ea53-c0af64aeaf93"
      },
      "execution_count": 21,
      "outputs": [
        {
          "output_type": "stream",
          "name": "stdout",
          "text": [
            "Pyt\n"
          ]
        }
      ]
    },
    {
      "cell_type": "code",
      "source": [
        "#Q4. Write a code to convert the string \"hello\" to uppercase\n",
        "A=\"hello\"\n",
        "print(A.upper())"
      ],
      "metadata": {
        "colab": {
          "base_uri": "https://localhost:8080/"
        },
        "id": "3bFS3MK3BlIx",
        "outputId": "47ef1c75-77a0-4b73-954e-8c1d2bccf195"
      },
      "execution_count": 1,
      "outputs": [
        {
          "output_type": "stream",
          "name": "stdout",
          "text": [
            "HELLO\n"
          ]
        }
      ]
    },
    {
      "cell_type": "code",
      "source": [
        "#Q5. Write a code to replace the word \"apple\" with \"orange\" in the string \"I like apple\"\n",
        "WORD=\"I like apple\"\n",
        "print(WORD.replace(\"apple\",\"orange\"))"
      ],
      "metadata": {
        "colab": {
          "base_uri": "https://localhost:8080/"
        },
        "id": "jYTUVqyOB7ox",
        "outputId": "20754a4f-7192-443e-89ea-151afe54afe3"
      },
      "execution_count": 3,
      "outputs": [
        {
          "output_type": "stream",
          "name": "stdout",
          "text": [
            "I like orange\n"
          ]
        }
      ]
    },
    {
      "cell_type": "code",
      "source": [
        "#Q6. Write a code to create a list with numbers 1 to 5 and print it\n",
        "A=[1,2,3,4,5]\n",
        "print(A)\n"
      ],
      "metadata": {
        "colab": {
          "base_uri": "https://localhost:8080/"
        },
        "id": "0h99G6uKCLCY",
        "outputId": "19f36106-1791-4e3e-9841-dc68416a3e57"
      },
      "execution_count": 4,
      "outputs": [
        {
          "output_type": "stream",
          "name": "stdout",
          "text": [
            "[1, 2, 3, 4, 5]\n"
          ]
        }
      ]
    },
    {
      "cell_type": "code",
      "source": [
        "#Q7. Write a code to append the number 10 to the list [1, 2, 3, 4]\n",
        "A=[1,2,3,4]\n",
        "A.append(10)\n",
        "print(A)\n"
      ],
      "metadata": {
        "colab": {
          "base_uri": "https://localhost:8080/"
        },
        "id": "P5Wa9uJjCu01",
        "outputId": "dd46887e-08c0-42ba-bd50-f2658f277bb9"
      },
      "execution_count": 5,
      "outputs": [
        {
          "output_type": "stream",
          "name": "stdout",
          "text": [
            "[1, 2, 3, 4, 10]\n"
          ]
        }
      ]
    },
    {
      "cell_type": "code",
      "source": [
        "#Q8. Write a code to remove the number 3 from the list [1, 2, 3, 4, 5]\n",
        "A=[1,2,3,4,5]\n",
        "A.remove(3)\n",
        "print(A)\n"
      ],
      "metadata": {
        "colab": {
          "base_uri": "https://localhost:8080/"
        },
        "id": "Gj84DZD8C6xi",
        "outputId": "493050a1-613d-4dff-f3ce-0d57d5beaf27"
      },
      "execution_count": 6,
      "outputs": [
        {
          "output_type": "stream",
          "name": "stdout",
          "text": [
            "[1, 2, 4, 5]\n"
          ]
        }
      ]
    },
    {
      "cell_type": "code",
      "source": [
        "#Q9. Write a code to access the second element in the list ['a', 'b', 'c', 'd']\n",
        "A=['a','b','c','d']\n",
        "print(A[1])"
      ],
      "metadata": {
        "colab": {
          "base_uri": "https://localhost:8080/"
        },
        "id": "e7EY24TeDLD9",
        "outputId": "b33a289f-aed1-4f31-a2af-65f2e96b2cb5"
      },
      "execution_count": 7,
      "outputs": [
        {
          "output_type": "stream",
          "name": "stdout",
          "text": [
            "b\n"
          ]
        }
      ]
    },
    {
      "cell_type": "code",
      "source": [
        "#Q10. Write a code to reverse the list [10, 20, 30, 40, 50].\n",
        "A=[10,20,30,40,50]\n",
        "print(A[::-1])"
      ],
      "metadata": {
        "colab": {
          "base_uri": "https://localhost:8080/"
        },
        "id": "ggt729RADVWe",
        "outputId": "167630f2-c4af-4dde-9479-745b41c17b60"
      },
      "execution_count": 8,
      "outputs": [
        {
          "output_type": "stream",
          "name": "stdout",
          "text": [
            "[50, 40, 30, 20, 10]\n"
          ]
        }
      ]
    },
    {
      "cell_type": "code",
      "source": [
        "#Q11. Write a code to create a tuple with the elements 100, 200, 300 and print it\n",
        "A=(100,200,300)\n",
        "print(A)"
      ],
      "metadata": {
        "colab": {
          "base_uri": "https://localhost:8080/"
        },
        "id": "E8WTeCoxDolg",
        "outputId": "367692c7-7702-4cb0-9df6-b5f336d62659"
      },
      "execution_count": 9,
      "outputs": [
        {
          "output_type": "stream",
          "name": "stdout",
          "text": [
            "(100, 200, 300)\n"
          ]
        }
      ]
    },
    {
      "cell_type": "code",
      "source": [
        "#Q12.  Write a code to access the second-to-last element of the tuple ('red', 'green', 'blue', 'yellow').\n",
        "A=('red','green','blue','yellow')\n",
        "print(A[-2])"
      ],
      "metadata": {
        "colab": {
          "base_uri": "https://localhost:8080/"
        },
        "id": "A1F7CGKKD1tw",
        "outputId": "1625d2cd-4200-4fa4-8632-982fe59f083a"
      },
      "execution_count": 10,
      "outputs": [
        {
          "output_type": "stream",
          "name": "stdout",
          "text": [
            "blue\n"
          ]
        }
      ]
    },
    {
      "cell_type": "code",
      "source": [
        "#Q13. Write a code to find the minimum number in the tuple (10, 20, 5, 15).\n",
        "A=(10,20,5,15)\n",
        "print(min(A))"
      ],
      "metadata": {
        "colab": {
          "base_uri": "https://localhost:8080/"
        },
        "id": "ic6d-BRAECbl",
        "outputId": "3ca52a03-6ac1-4322-92a7-f9e853739dc3"
      },
      "execution_count": 11,
      "outputs": [
        {
          "output_type": "stream",
          "name": "stdout",
          "text": [
            "5\n"
          ]
        }
      ]
    },
    {
      "cell_type": "code",
      "source": [
        "#Q14. Write a code to find the index of the element \"cat\" in the tuple ('dog', 'cat', 'rabbit').\n",
        "A=('dog','cat','rabbit')\n",
        "print(A.index('cat'))"
      ],
      "metadata": {
        "colab": {
          "base_uri": "https://localhost:8080/"
        },
        "id": "5YgJY92zEJxz",
        "outputId": "d7487bb5-d3b3-48dc-cd9e-fed09d1c550f"
      },
      "execution_count": 12,
      "outputs": [
        {
          "output_type": "stream",
          "name": "stdout",
          "text": [
            "1\n"
          ]
        }
      ]
    },
    {
      "cell_type": "code",
      "source": [
        "#Q15.  Write a code to create a tuple containing three different fruits and check if \"kiwi\" is in it.\n",
        "A=(\"apple\",\"banana\",\"kiwi\")\n",
        "print(\"kiwi\" in A)"
      ],
      "metadata": {
        "colab": {
          "base_uri": "https://localhost:8080/"
        },
        "id": "sz5fJBh1EWgy",
        "outputId": "31090153-8d97-4ba5-ac3a-a30cbb6adee3"
      },
      "execution_count": 13,
      "outputs": [
        {
          "output_type": "stream",
          "name": "stdout",
          "text": [
            "True\n"
          ]
        }
      ]
    },
    {
      "cell_type": "markdown",
      "source": [],
      "metadata": {
        "id": "RXc-_0zQXB3w"
      }
    },
    {
      "cell_type": "code",
      "source": [
        "#Q16.  Write a code to create a set with the elements 'a', 'b', 'c' and print it.\n",
        "A={'a','b','c'}\n",
        "print(A)\n"
      ],
      "metadata": {
        "colab": {
          "base_uri": "https://localhost:8080/"
        },
        "id": "TrBTv1eEEg0o",
        "outputId": "8c7a8e3d-3f18-4fa0-e391-bb69a072a32d"
      },
      "execution_count": 18,
      "outputs": [
        {
          "output_type": "stream",
          "name": "stdout",
          "text": [
            "{'b', 'c', 'a'}\n"
          ]
        }
      ]
    },
    {
      "cell_type": "code",
      "source": [
        "#Q17. Write a code to clear all elements from the set {1, 2, 3, 4, 5}.\n",
        "A={1,2,3,4,5}\n",
        "A.clear()\n",
        "print(A)\n"
      ],
      "metadata": {
        "colab": {
          "base_uri": "https://localhost:8080/"
        },
        "id": "J5vrC0v4FXTI",
        "outputId": "abb1c3d6-b7e0-4f6e-83dd-edb1b3ba4545"
      },
      "execution_count": 24,
      "outputs": [
        {
          "output_type": "stream",
          "name": "stdout",
          "text": [
            "set()\n"
          ]
        }
      ]
    },
    {
      "cell_type": "code",
      "source": [
        "#Q18. Write a code to remove the element 4 from the set {1, 2, 3, 4}.\n",
        "A={1,2,3,4}\n",
        "A.remove(4)\n",
        "print(A)\n"
      ],
      "metadata": {
        "colab": {
          "base_uri": "https://localhost:8080/"
        },
        "id": "C8ds2amGFsdI",
        "outputId": "8aeed286-0a72-411e-a0a8-8e7625ac4356"
      },
      "execution_count": 25,
      "outputs": [
        {
          "output_type": "stream",
          "name": "stdout",
          "text": [
            "{1, 2, 3}\n"
          ]
        }
      ]
    },
    {
      "cell_type": "code",
      "source": [
        "#Q19.  Write a code to find the union of two sets {1, 2, 3} and {3, 4, 5}.\n",
        "A={1,2,3}\n",
        "B={3,4,5}\n",
        "print(A.union(B))"
      ],
      "metadata": {
        "colab": {
          "base_uri": "https://localhost:8080/"
        },
        "id": "agV6csiEGhoL",
        "outputId": "ede3d3f3-ae2c-4475-89aa-eef3b3a8016a"
      },
      "execution_count": 27,
      "outputs": [
        {
          "output_type": "stream",
          "name": "stdout",
          "text": [
            "{1, 2, 3, 4, 5}\n"
          ]
        }
      ]
    },
    {
      "cell_type": "code",
      "source": [
        "#Q20. Write a code to find the intersection of two sets {1, 2, 3} and {2, 3, 4}.\n",
        "A={1,2,3}\n",
        "B={2,3,4}\n",
        "print(A.intersection(B))"
      ],
      "metadata": {
        "colab": {
          "base_uri": "https://localhost:8080/"
        },
        "id": "7PUM0_hVHFni",
        "outputId": "9ac28aa9-0d62-49a2-a2ac-46c658f49c07"
      },
      "execution_count": 29,
      "outputs": [
        {
          "output_type": "stream",
          "name": "stdout",
          "text": [
            "{2, 3}\n"
          ]
        }
      ]
    },
    {
      "cell_type": "code",
      "source": [
        "#Q21. Write a code to create a dictionary with the keys \"name\", \"age\", and \"city\", and print it.\n",
        "A={\"name\":\"Harsh\",\"age\":21,\"city\":\"SURAT\"}\n",
        "print(A)\n"
      ],
      "metadata": {
        "colab": {
          "base_uri": "https://localhost:8080/"
        },
        "id": "bHIRewnVHeQs",
        "outputId": "ca0fe4c9-9095-4442-9e0b-283306ca0529"
      },
      "execution_count": 30,
      "outputs": [
        {
          "output_type": "stream",
          "name": "stdout",
          "text": [
            "{'name': 'Harsh', 'age': 21, 'city': 'SURAT'}\n"
          ]
        }
      ]
    },
    {
      "cell_type": "code",
      "source": [
        "#Q22. Write a code to add a new key-value pair \"country\": \"USA\" to the dictionary {'name': 'John', 'age': 25}.\n",
        "A={'name': 'John', 'age': 25}\n",
        "A[\"country\"]=\"USA\"\n",
        "print(A)\n"
      ],
      "metadata": {
        "colab": {
          "base_uri": "https://localhost:8080/"
        },
        "id": "AXQRNFdKIAc_",
        "outputId": "d5e2ebd8-a8c8-4459-f70d-df0b787ecafb"
      },
      "execution_count": 31,
      "outputs": [
        {
          "output_type": "stream",
          "name": "stdout",
          "text": [
            "{'name': 'John', 'age': 25, 'country': 'USA'}\n"
          ]
        }
      ]
    },
    {
      "cell_type": "code",
      "source": [
        "#Q23. Write a code to access the value associated with the key \"name\" in the dictionary {'name': 'Alice', 'age': 30}.\n",
        "MY_DICT={'name': 'Alice', 'age': 30}\n",
        "print(MY_DICT[\"name\"])\n"
      ],
      "metadata": {
        "colab": {
          "base_uri": "https://localhost:8080/"
        },
        "id": "nF5kjHZUIRJb",
        "outputId": "b277165c-0f11-498a-da93-735d9a9dae62"
      },
      "execution_count": 32,
      "outputs": [
        {
          "output_type": "stream",
          "name": "stdout",
          "text": [
            "Alice\n"
          ]
        }
      ]
    },
    {
      "cell_type": "code",
      "source": [
        "#Q24. Write a code to remove the key \"age\" from the dictionary {'name': 'Bob', 'age': 22, 'city': 'New York'}.\n",
        "diction={'name': 'Bob', 'age': 22, 'city': 'New York'}\n",
        "print(diction.pop(\"age\"))\n"
      ],
      "metadata": {
        "colab": {
          "base_uri": "https://localhost:8080/"
        },
        "id": "K9H4JmY5IcoU",
        "outputId": "31393ebd-f856-4744-fec1-ec10129616d0"
      },
      "execution_count": 33,
      "outputs": [
        {
          "output_type": "stream",
          "name": "stdout",
          "text": [
            "22\n"
          ]
        }
      ]
    },
    {
      "cell_type": "code",
      "source": [
        "#Q25. Write a code to check if the key \"city\" exists in the dictionary {'name': 'Alice', 'city': 'Paris'}.\n",
        "my_dict={'name': 'Alice', 'city': 'Paris'}\n",
        "print(\"city\" in my_dict)\n"
      ],
      "metadata": {
        "colab": {
          "base_uri": "https://localhost:8080/"
        },
        "id": "NDKfdRWkI6Ft",
        "outputId": "149e7bcc-2572-4dd1-f0b7-764d0174b544"
      },
      "execution_count": 34,
      "outputs": [
        {
          "output_type": "stream",
          "name": "stdout",
          "text": [
            "True\n"
          ]
        }
      ]
    },
    {
      "cell_type": "code",
      "source": [
        "#Q26. Write a code to create a list, a tuple, and a dictionary, and print them all.\n",
        "my_list = [1, 2, 3]\n",
        "my_tuple = (4, 5, 6)\n",
        "my_dict = {\"name\": \"Alice\", \"age\": 25}\n",
        "print(my_list)\n",
        "print(my_tuple)\n",
        "print(my_dict)\n"
      ],
      "metadata": {
        "colab": {
          "base_uri": "https://localhost:8080/"
        },
        "id": "Nw6bELKRJOGF",
        "outputId": "21ccd8ac-beac-4a29-f5d0-ef8fac025d0f"
      },
      "execution_count": 35,
      "outputs": [
        {
          "output_type": "stream",
          "name": "stdout",
          "text": [
            "[1, 2, 3]\n",
            "(4, 5, 6)\n",
            "{'name': 'Alice', 'age': 25}\n"
          ]
        }
      ]
    },
    {
      "cell_type": "code",
      "source": [
        "'''Q27. Write a code to create a list of 5 random numbers between 1 and 100, sort it in ascending order, and print the\n",
        "result.(replaced)'''\n",
        "import random\n",
        "random_numbers = [random.randint(1, 100) for _ in range(5)]\n",
        "random_numbers.sort()\n",
        "print(random_numbers)\n"
      ],
      "metadata": {
        "colab": {
          "base_uri": "https://localhost:8080/"
        },
        "id": "529hxMMaJTGb",
        "outputId": "58e69898-bd56-4356-8805-7051b32d3dba"
      },
      "execution_count": 58,
      "outputs": [
        {
          "output_type": "stream",
          "name": "stdout",
          "text": [
            "[5, 21, 28, 55, 91]\n"
          ]
        }
      ]
    },
    {
      "cell_type": "code",
      "source": [
        "#28. Write a code to create a list with strings and print the element at the third index.\n",
        "my_list = [\"apple\", \"banana\", \"cherry\", \"date\", \"elderberry\"]\n",
        "print(my_list[3])\n"
      ],
      "metadata": {
        "colab": {
          "base_uri": "https://localhost:8080/"
        },
        "id": "AA_NQbHRJw0G",
        "outputId": "58d76c33-3684-4a58-cd80-a761bdd7508d"
      },
      "execution_count": 62,
      "outputs": [
        {
          "output_type": "stream",
          "name": "stdout",
          "text": [
            "date\n"
          ]
        }
      ]
    },
    {
      "cell_type": "code",
      "source": [
        "#Q29. Write a code to combine two dictionaries into one and print the result.\n",
        "dict1 = {\"a\": 1, \"b\": 2}\n",
        "dict2 = {\"c\": 3, \"d\": 4}\n",
        "combined_dict = {**dict1, **dict2}\n",
        "print(combined_dict)\n",
        "\n"
      ],
      "metadata": {
        "colab": {
          "base_uri": "https://localhost:8080/"
        },
        "id": "hOr5QPsdJ22s",
        "outputId": "a6a4e25c-0733-46ab-805e-433cf2d793ad"
      },
      "execution_count": 60,
      "outputs": [
        {
          "output_type": "stream",
          "name": "stdout",
          "text": [
            "{'a': 1, 'b': 2, 'c': 3, 'd': 4}\n"
          ]
        }
      ]
    },
    {
      "cell_type": "code",
      "source": [
        "#Q30. Write a code to convert a list of strings into a set.\n",
        "my_list = [\"apple\", \"banana\", \"cherry\", \"apple\", \"banana\"]\n",
        "my_set = set(my_list)\n",
        "print(my_set)\n"
      ],
      "metadata": {
        "colab": {
          "base_uri": "https://localhost:8080/"
        },
        "id": "JsSZ9G6jJ8fr",
        "outputId": "246e920e-104d-4806-8c10-d89f8a9dafc3"
      },
      "execution_count": 61,
      "outputs": [
        {
          "output_type": "stream",
          "name": "stdout",
          "text": [
            "{'cherry', 'banana', 'apple'}\n"
          ]
        }
      ]
    }
  ]
}